{
 "cells": [
  {
   "cell_type": "markdown",
   "metadata": {},
   "source": [
    "# Lesson 2: Sequential Chats and Customer Onboarding\n",
    "## Setup"
   ]
  },
  {
   "cell_type": "code",
   "execution_count": 1,
   "metadata": {},
   "outputs": [],
   "source": [
    "import os\n",
    "\n",
    "from autogen import ConversableAgent\n",
    "from dotenv import load_dotenv\n",
    "\n",
    "load_dotenv()\n",
    "\n",
    "\n",
    "llm_config = {\n",
    "    \"model\": \"gpt-4o-mini\",\n",
    "    \"api_key\": os.getenv(\"OPENAI_API_KEY\"),\n",
    "}"
   ]
  },
  {
   "cell_type": "markdown",
   "metadata": {},
   "source": [
    "## Creating the needed agents"
   ]
  },
  {
   "cell_type": "code",
   "execution_count": 14,
   "metadata": {},
   "outputs": [],
   "source": [
    "onboarding_personal_information_agent = ConversableAgent(\n",
    "    name=\"OnboardingPersonalInformationAgent\",\n",
    "    system_message='''You are a helpful customer onboarding agent,\n",
    "    you are here to help new customers get started with our product.\n",
    "    Your job is to gather customer's name and location.\n",
    "    Do not ask for other information. Return 'TERMINATE' \n",
    "    when you have gathered all the information.''',\n",
    "    llm_config=llm_config,\n",
    "    code_execution_config=False,\n",
    "    human_input_mode=\"NEVER\",\n",
    ")\n",
    "\n",
    "onboarding_topic_preference_agent = ConversableAgent(\n",
    "    name=\"OnboardingTopicPreferenceAgent\",\n",
    "    system_message='''You are a helpful customer onboarding agent,\n",
    "    you are here to help new customers get started with our product.\n",
    "    Your job is to gather customer's preferences on news topics.\n",
    "    Do not ask for other information.\n",
    "    Return 'TERMINATE' when you have gathered all the information.''',\n",
    "    llm_config=llm_config,\n",
    "    code_execution_config=False,\n",
    "    human_input_mode=\"NEVER\",\n",
    ")\n",
    "\n",
    "customer_engagement_agent = ConversableAgent(\n",
    "    name=\"CustomerEngagementAgent\",\n",
    "    system_message='''You are a helpful customer service agent\n",
    "    here to provide fun for the customer based on the user's\n",
    "    personal information and topic preferences.\n",
    "    This could include fun facts, jokes, or interesting stories.\n",
    "    Make sure to make it engaging and fun!\n",
    "    Return 'TERMINATE' when you are done.''',\n",
    "    llm_config=llm_config,\n",
    "    code_execution_config=False,\n",
    "    human_input_mode=\"NEVER\",\n",
    "    is_termination_msg=lambda msg: \"terminate\" in msg.get(\"content\").lower(),\n",
    ")\n",
    "\n",
    "customer_proxy_agent = ConversableAgent(\n",
    "    name=\"customer_proxy_agent\",\n",
    "    llm_config=False,\n",
    "    code_execution_config=False,\n",
    "    human_input_mode=\"ALWAYS\",\n",
    "    is_termination_msg=lambda msg: \"terminate\" in msg.get(\"content\").lower(),\n",
    ")"
   ]
  },
  {
   "cell_type": "markdown",
   "metadata": {},
   "source": [
    "## Creating tasks\n",
    "\n",
    "Now, you can craft a series of tasks to facilitate the onboarding process."
   ]
  },
  {
   "cell_type": "code",
   "execution_count": 15,
   "metadata": {},
   "outputs": [],
   "source": [
    "chats = [\n",
    "    {\n",
    "        \"sender\": onboarding_personal_information_agent,\n",
    "        \"recipient\": customer_proxy_agent,\n",
    "        \"message\": \n",
    "            \"Hello, I'm here to help you get started with our product.\"\n",
    "            \"Could you tell me your name and location?\",\n",
    "        \"summary_method\": \"reflection_with_llm\",\n",
    "        \"summary_args\": {\n",
    "            \"summary_prompt\" : \"Return the customer information \"\n",
    "                             \"into as JSON object only: \"\n",
    "                             \"{'name': '', 'location': ''}\",\n",
    "        },\n",
    "        \"max_turns\": 2,\n",
    "        \"clear_history\" : True\n",
    "    },\n",
    "    {\n",
    "        \"sender\": onboarding_topic_preference_agent,\n",
    "        \"recipient\": customer_proxy_agent,\n",
    "        \"message\": \n",
    "                \"Great! Could you tell me what topics you are \"\n",
    "                \"interested in reading about?\",\n",
    "        \"summary_method\": \"reflection_with_llm\",\n",
    "        \"max_turns\": 1,\n",
    "        \"clear_history\" : False\n",
    "    },\n",
    "    {\n",
    "        \"sender\": customer_proxy_agent,\n",
    "        \"recipient\": customer_engagement_agent,\n",
    "        \"message\": \"Let's find something fun to read.\",\n",
    "        \"max_turns\": 1,\n",
    "        \"summary_method\": \"reflection_with_llm\",\n",
    "    },\n",
    "]"
   ]
  },
  {
   "cell_type": "markdown",
   "metadata": {},
   "source": [
    "## Start the onboarding process"
   ]
  },
  {
   "cell_type": "code",
   "execution_count": 16,
   "metadata": {},
   "outputs": [
    {
     "name": "stdout",
     "output_type": "stream",
     "text": [
      "\u001b[34m\n",
      "********************************************************************************\u001b[0m\n",
      "\u001b[34mStarting a new chat....\u001b[0m\n",
      "\u001b[34m\n",
      "********************************************************************************\u001b[0m\n",
      "\u001b[33mOnboardingPersonalInformationAgent\u001b[0m (to customer_proxy_agent):\n",
      "\n",
      "Hello, I'm here to help you get started with our product.Could you tell me your name and location?\n",
      "\n",
      "--------------------------------------------------------------------------------\n",
      "\u001b[33mcustomer_proxy_agent\u001b[0m (to OnboardingPersonalInformationAgent):\n",
      "\n",
      "John\n",
      "\n",
      "--------------------------------------------------------------------------------\n",
      "\u001b[33mOnboardingPersonalInformationAgent\u001b[0m (to customer_proxy_agent):\n",
      "\n",
      "Thank you, John! And what is your location?\n",
      "\n",
      "--------------------------------------------------------------------------------\n",
      "\u001b[33mcustomer_proxy_agent\u001b[0m (to OnboardingPersonalInformationAgent):\n",
      "\n",
      "New York\n",
      "\n",
      "--------------------------------------------------------------------------------\n",
      "\u001b[34m\n",
      "********************************************************************************\u001b[0m\n",
      "\u001b[34mStarting a new chat....\u001b[0m\n",
      "\u001b[34m\n",
      "********************************************************************************\u001b[0m\n",
      "\u001b[33mOnboardingTopicPreferenceAgent\u001b[0m (to customer_proxy_agent):\n",
      "\n",
      "Great! Could you tell me what topics you are interested in reading about?\n",
      "Context: \n",
      "```json\n",
      "{\n",
      "  \"name\": \"John\",\n",
      "  \"location\": \"New York\"\n",
      "}\n",
      "```\n",
      "\n",
      "--------------------------------------------------------------------------------\n",
      "\u001b[33mcustomer_proxy_agent\u001b[0m (to OnboardingTopicPreferenceAgent):\n",
      "\n",
      "Soccer\n",
      "\n",
      "--------------------------------------------------------------------------------\n",
      "\u001b[34m\n",
      "********************************************************************************\u001b[0m\n",
      "\u001b[34mStarting a new chat....\u001b[0m\n",
      "\u001b[34m\n",
      "********************************************************************************\u001b[0m\n",
      "\u001b[33mcustomer_proxy_agent\u001b[0m (to CustomerEngagementAgent):\n",
      "\n",
      "Let's find something fun to read.\n",
      "Context: \n",
      "```json\n",
      "{\n",
      "  \"name\": \"John\",\n",
      "  \"location\": \"New York\"\n",
      "}\n",
      "```\n",
      "John is interested in reading about soccer.\n",
      "\n",
      "--------------------------------------------------------------------------------\n",
      "\u001b[33mCustomerEngagementAgent\u001b[0m (to customer_proxy_agent):\n",
      "\n",
      "Hey John! 🌟 You're in for a treat, especially being in New York, where the sports scene is buzzing! Let’s kick things off with some fun facts about soccer — the beautiful game!\n",
      "\n",
      "1. **The Origin**: The first soccer game can be traced back to ancient China around 476 BC! They played a game called \"cuju,\" which involved kicking a leather ball through an opening. Talk about an early version of soccer!\n",
      "\n",
      "2. **World Cup Madness**: The FIFA World Cup is the most-watched sporting event in the world, boasting around 3.5 billion viewers during each tournament. That's half of the planet tuning in — no pressure!\n",
      "\n",
      "3. **Longest Soccer Match**: The longest soccer match ever recorded lasted 35 hours and was played in 1981 between two amateur teams in England. Imagine the stamina (and snacks) required for that!\n",
      "\n",
      "4. **Soccer vs. Football**: Did you know that the name \"soccer\" comes from an abbreviation of \"association football\"? It was actually popularized in England to distinguish between different types of football at the time!\n",
      "\n",
      "5. **The Fastest Goal**: The fastest goal in soccer history was scored just 2.8 seconds after the kickoff! Swiss player Hakan Şükür netted it in a World Cup match in 2002. Blink and you would’ve missed it!\n",
      "\n",
      "Now here’s a lighthearted soccer joke for you:\n",
      "\n",
      "Why did the soccer player bring string to the game?  \n",
      "Because he wanted to tie the score! ⚽️😄\n",
      "\n",
      "Let me know if you'd like to dive deeper into any specific topic or if you want more fun stuff related to soccer! \n",
      "\n",
      "TERMINATE\n",
      "\n",
      "--------------------------------------------------------------------------------\n"
     ]
    }
   ],
   "source": [
    "from autogen import initiate_chats\n",
    "\n",
    "chat_results = initiate_chats(chats)"
   ]
  },
  {
   "cell_type": "markdown",
   "metadata": {},
   "source": [
    "## Print out the summary"
   ]
  },
  {
   "cell_type": "code",
   "execution_count": 17,
   "metadata": {},
   "outputs": [
    {
     "name": "stdout",
     "output_type": "stream",
     "text": [
      "```json\n",
      "{\n",
      "  \"name\": \"John\",\n",
      "  \"location\": \"New York\"\n",
      "}\n",
      "```\n",
      "\n",
      "\n",
      "John is interested in reading about soccer.\n",
      "\n",
      "\n",
      "John is interested in soccer and learns fun facts about the sport, including its ancient origins, the popularity of the FIFA World Cup, the longest recorded match, the origin of the term \"soccer,\" and the fastest goal scored in history. A lighthearted soccer joke is also shared.\n",
      "\n",
      "\n"
     ]
    }
   ],
   "source": [
    "for chat_result in chat_results:\n",
    "    print(chat_result.summary)\n",
    "    print(\"\\n\")"
   ]
  },
  {
   "cell_type": "code",
   "execution_count": 18,
   "metadata": {},
   "outputs": [
    {
     "name": "stdout",
     "output_type": "stream",
     "text": [
      "{'usage_including_cached_inference': {'total_cost': 5.0849999999999996e-05, 'gpt-4o-mini-2024-07-18': {'cost': 5.0849999999999996e-05, 'prompt_tokens': 203, 'completion_tokens': 34, 'total_tokens': 237}}, 'usage_excluding_cached_inference': {'total_cost': 5.0849999999999996e-05, 'gpt-4o-mini-2024-07-18': {'cost': 5.0849999999999996e-05, 'prompt_tokens': 203, 'completion_tokens': 34, 'total_tokens': 237}}}\n",
      "\n",
      "\n",
      "{'usage_including_cached_inference': {'total_cost': 1.7699999999999997e-05, 'gpt-4o-mini-2024-07-18': {'cost': 1.7699999999999997e-05, 'prompt_tokens': 82, 'completion_tokens': 9, 'total_tokens': 91}}, 'usage_excluding_cached_inference': {'total_cost': 1.7699999999999997e-05, 'gpt-4o-mini-2024-07-18': {'cost': 1.7699999999999997e-05, 'prompt_tokens': 82, 'completion_tokens': 9, 'total_tokens': 91}}}\n",
      "\n",
      "\n",
      "{'usage_including_cached_inference': {'total_cost': 0.0003246, 'gpt-4o-mini-2024-07-18': {'cost': 0.0003246, 'prompt_tokens': 544, 'completion_tokens': 405, 'total_tokens': 949}}, 'usage_excluding_cached_inference': {'total_cost': 0.0003246, 'gpt-4o-mini-2024-07-18': {'cost': 0.0003246, 'prompt_tokens': 544, 'completion_tokens': 405, 'total_tokens': 949}}}\n",
      "\n",
      "\n"
     ]
    }
   ],
   "source": [
    "for chat_result in chat_results:\n",
    "    print(chat_result.cost)\n",
    "    print(\"\\n\")"
   ]
  }
 ],
 "metadata": {
  "kernelspec": {
   "display_name": "ag2-101-3j4tOcAr",
   "language": "python",
   "name": "python3"
  },
  "language_info": {
   "codemirror_mode": {
    "name": "ipython",
    "version": 3
   },
   "file_extension": ".py",
   "mimetype": "text/x-python",
   "name": "python",
   "nbconvert_exporter": "python",
   "pygments_lexer": "ipython3",
   "version": "3.12.8"
  }
 },
 "nbformat": 4,
 "nbformat_minor": 2
}
