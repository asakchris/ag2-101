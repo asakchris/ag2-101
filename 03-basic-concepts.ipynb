{
 "cells": [
  {
   "cell_type": "markdown",
   "metadata": {},
   "source": [
    "# Basic Concepts\n",
    "## Structured Outputs"
   ]
  },
  {
   "cell_type": "code",
   "execution_count": 1,
   "metadata": {},
   "outputs": [
    {
     "name": "stdout",
     "output_type": "stream",
     "text": [
      "\u001b[33muser\u001b[0m (to lesson_agent):\n",
      "\n",
      "In one sentence, what's the big deal about AI?\n",
      "\n",
      "--------------------------------------------------------------------------------\n",
      "\u001b[31m\n",
      ">>>>>>>> USING AUTO REPLY...\u001b[0m\n",
      "\u001b[33mlesson_agent\u001b[0m (to user):\n",
      "\n",
      "{\"title\":\"The Impact of Artificial Intelligence\",\"learning_objectives\":[{\"title\":\"Understand AI Basics\",\"description\":\"Students will learn what artificial intelligence is and how it is used in everyday life.\"},{\"title\":\"Explore AI Applications\",\"description\":\"Students will identify various applications of AI in different fields such as healthcare, education, and entertainment.\"},{\"title\":\"Discuss Ethical Implications\",\"description\":\"Students will discuss the ethical considerations surrounding the use of AI.\"}],\"script\":\"Today, we are going to explore the exciting world of artificial intelligence, or AI! AI is changing the way we live, work, and play. First, let's define what AI is and think about some examples we encounter daily, such as voice assistants like Siri or Alexa, recommendation systems on Netflix, or even robots used in hospitals. Next, we'll discuss the various fields where AI is being applied and how it benefits people. Finally, we will spend some time considering the ethical implications of AI, including questions about privacy, job displacement, and decision-making. By the end of this lesson, you will have a greater understanding of AI and its significance in our world!\"}\n",
      "\n",
      "--------------------------------------------------------------------------------\n",
      "{\n",
      "  \"title\": \"The Impact of Artificial Intelligence\",\n",
      "  \"learning_objectives\": [\n",
      "    {\n",
      "      \"title\": \"Understand AI Basics\",\n",
      "      \"description\": \"Students will learn what artificial intelligence is and how it is used in everyday life.\"\n",
      "    },\n",
      "    {\n",
      "      \"title\": \"Explore AI Applications\",\n",
      "      \"description\": \"Students will identify various applications of AI in different fields such as healthcare, education, and entertainment.\"\n",
      "    },\n",
      "    {\n",
      "      \"title\": \"Discuss Ethical Implications\",\n",
      "      \"description\": \"Students will discuss the ethical considerations surrounding the use of AI.\"\n",
      "    }\n",
      "  ],\n",
      "  \"script\": \"Today, we are going to explore the exciting world of artificial intelligence, or AI! AI is changing the way we live, work, and play. First, let's define what AI is and think about some examples we encounter daily, such as voice assistants like Siri or Alexa, recommendation systems on Netflix, or even robots used in hospitals. Next, we'll discuss the various fields where AI is being applied and how it benefits people. Finally, we will spend some time considering the ethical implications of AI, including questions about privacy, job displacement, and decision-making. By the end of this lesson, you will have a greater understanding of AI and its significance in our world!\"\n",
      "}\n"
     ]
    }
   ],
   "source": [
    "import json\n",
    "import os\n",
    "\n",
    "from pydantic import BaseModel\n",
    "from autogen import ConversableAgent\n",
    "from dotenv import load_dotenv\n",
    "\n",
    "load_dotenv()\n",
    "\n",
    "\n",
    "# 1. Define our lesson plan structure, a lesson with a number of objectives\n",
    "class LearningObjective(BaseModel):\n",
    "    title: str\n",
    "    description: str\n",
    "\n",
    "\n",
    "class LessonPlan(BaseModel):\n",
    "    title: str\n",
    "    learning_objectives: list[LearningObjective]\n",
    "    script: str\n",
    "\n",
    "\n",
    "# 2. Add our lesson plan structure to the LLM configuration\n",
    "llm_config = {\n",
    "    \"model\": \"gpt-4o-mini\",\n",
    "    \"api_key\": os.getenv(\"OPENAI_API_KEY\"),\n",
    "    \"response_format\": LessonPlan,\n",
    "}\n",
    "\n",
    "# 3. The agent's system message doesn't need any formatting instructions\n",
    "system_message = \"\"\"You are a classroom lesson agent.\n",
    "Given a topic, write a lesson plan for a fourth grade class.\n",
    "\"\"\"\n",
    "\n",
    "my_agent = ConversableAgent(\n",
    "    name=\"lesson_agent\",\n",
    "    llm_config=llm_config,\n",
    "    system_message=system_message\n",
    "    )\n",
    "\n",
    "# 4. Chat directly with our agent\n",
    "chat_result = my_agent.run(\"In one sentence, what's the big deal about AI?\")\n",
    "\n",
    "# 5. Get and print our lesson plan\n",
    "lesson_plan_json = json.loads(chat_result.chat_history[-1][\"content\"])\n",
    "print(json.dumps(lesson_plan_json, indent=2))"
   ]
  },
  {
   "cell_type": "code",
   "execution_count": 2,
   "metadata": {},
   "outputs": [
    {
     "data": {
      "text/plain": [
       "ChatResult(chat_id=None, chat_history=[{'content': \"In one sentence, what's the big deal about AI?\", 'role': 'assistant', 'name': 'user'}, {'content': '{\"title\":\"The Impact of Artificial Intelligence\",\"learning_objectives\":[{\"title\":\"Understand AI Basics\",\"description\":\"Students will learn what artificial intelligence is and how it is used in everyday life.\"},{\"title\":\"Explore AI Applications\",\"description\":\"Students will identify various applications of AI in different fields such as healthcare, education, and entertainment.\"},{\"title\":\"Discuss Ethical Implications\",\"description\":\"Students will discuss the ethical considerations surrounding the use of AI.\"}],\"script\":\"Today, we are going to explore the exciting world of artificial intelligence, or AI! AI is changing the way we live, work, and play. First, let\\'s define what AI is and think about some examples we encounter daily, such as voice assistants like Siri or Alexa, recommendation systems on Netflix, or even robots used in hospitals. Next, we\\'ll discuss the various fields where AI is being applied and how it benefits people. Finally, we will spend some time considering the ethical implications of AI, including questions about privacy, job displacement, and decision-making. By the end of this lesson, you will have a greater understanding of AI and its significance in our world!\"}', 'role': 'user', 'name': 'lesson_agent'}], summary='{\"title\":\"The Impact of Artificial Intelligence\",\"learning_objectives\":[{\"title\":\"Understand AI Basics\",\"description\":\"Students will learn what artificial intelligence is and how it is used in everyday life.\"},{\"title\":\"Explore AI Applications\",\"description\":\"Students will identify various applications of AI in different fields such as healthcare, education, and entertainment.\"},{\"title\":\"Discuss Ethical Implications\",\"description\":\"Students will discuss the ethical considerations surrounding the use of AI.\"}],\"script\":\"Today, we are going to explore the exciting world of artificial intelligence, or AI! AI is changing the way we live, work, and play. First, let\\'s define what AI is and think about some examples we encounter daily, such as voice assistants like Siri or Alexa, recommendation systems on Netflix, or even robots used in hospitals. Next, we\\'ll discuss the various fields where AI is being applied and how it benefits people. Finally, we will spend some time considering the ethical implications of AI, including questions about privacy, job displacement, and decision-making. By the end of this lesson, you will have a greater understanding of AI and its significance in our world!\"}', cost={'usage_including_cached_inference': {'total_cost': 0.00015974999999999998, 'gpt-4o-mini-2024-07-18': {'cost': 0.00015974999999999998, 'prompt_tokens': 157, 'completion_tokens': 227, 'total_tokens': 384}}, 'usage_excluding_cached_inference': {'total_cost': 0.00015974999999999998, 'gpt-4o-mini-2024-07-18': {'cost': 0.00015974999999999998, 'prompt_tokens': 157, 'completion_tokens': 227, 'total_tokens': 384}}}, human_input=['exit'])"
      ]
     },
     "execution_count": 2,
     "metadata": {},
     "output_type": "execute_result"
    }
   ],
   "source": [
    "chat_result"
   ]
  },
  {
   "cell_type": "markdown",
   "metadata": {},
   "source": [
    "## Conversable Agent"
   ]
  },
  {
   "cell_type": "code",
   "execution_count": 3,
   "metadata": {},
   "outputs": [
    {
     "name": "stdout",
     "output_type": "stream",
     "text": [
      "\u001b[33muser\u001b[0m (to helpful_agent):\n",
      "\n",
      "In one sentence, what's the big deal about AI?\n",
      "\n",
      "--------------------------------------------------------------------------------\n",
      "\u001b[31m\n",
      ">>>>>>>> USING AUTO REPLY...\u001b[0m\n",
      "\u001b[33mhelpful_agent\u001b[0m (to user):\n",
      "\n",
      "AI can learn and think, transforming how we create, innovate, and connect, shaping our future at an astonishing rate.\n",
      "\n",
      "--------------------------------------------------------------------------------\n"
     ]
    },
    {
     "data": {
      "text/plain": [
       "ChatResult(chat_id=None, chat_history=[{'content': \"In one sentence, what's the big deal about AI?\", 'role': 'assistant', 'name': 'user'}, {'content': 'AI can learn and think, transforming how we create, innovate, and connect, shaping our future at an astonishing rate.', 'role': 'user', 'name': 'helpful_agent'}], summary='AI can learn and think, transforming how we create, innovate, and connect, shaping our future at an astonishing rate.', cost={'usage_including_cached_inference': {'total_cost': 2.01e-05, 'gpt-4o-mini-2024-07-18': {'cost': 2.01e-05, 'prompt_tokens': 34, 'completion_tokens': 25, 'total_tokens': 59}}, 'usage_excluding_cached_inference': {'total_cost': 0}}, human_input=['exit'])"
      ]
     },
     "execution_count": 3,
     "metadata": {},
     "output_type": "execute_result"
    }
   ],
   "source": [
    "# 1. Import our agent class\n",
    "from autogen import ConversableAgent\n",
    "\n",
    "# 2. Define our LLM configuration for OpenAI's GPT-4o mini\n",
    "#    Put your key in the OPENAI_API_KEY environment variable\n",
    "llm_config = {\"api_type\": \"openai\", \"model\": \"gpt-4o-mini\"}\n",
    "\n",
    "# 3. Create our agent\n",
    "my_agent = ConversableAgent(\n",
    "    name=\"helpful_agent\",\n",
    "    llm_config=llm_config,\n",
    "    system_message=\"You are a poetic AI assistant, respond in rhyme.\",\n",
    ")\n",
    "\n",
    "# 4. Chat directly with our agent\n",
    "my_agent.run(\"In one sentence, what's the big deal about AI?\")"
   ]
  },
  {
   "cell_type": "markdown",
   "metadata": {},
   "source": [
    "## Human In The Loop"
   ]
  },
  {
   "cell_type": "code",
   "execution_count": 4,
   "metadata": {},
   "outputs": [
    {
     "name": "stdout",
     "output_type": "stream",
     "text": [
      "\u001b[33mhuman\u001b[0m (to lesson_agent):\n",
      "\n",
      "Today, let's introduce our kids to the solar system.\n",
      "\n",
      "--------------------------------------------------------------------------------\n",
      "\u001b[31m\n",
      ">>>>>>>> USING AUTO REPLY...\u001b[0m\n",
      "\u001b[33mlesson_agent\u001b[0m (to human):\n",
      "\n",
      "<title>Exploring the Solar System</title>\n",
      "<learning_objectives>\n",
      "1. Identify and name the eight planets in the solar system.\n",
      "2. Understand the basic characteristics of each planet.\n",
      "3. Recognize the Sun as the center of the solar system.\n",
      "4. Differentiate between terrestrial and gas giant planets.\n",
      "</learning_objectives>\n",
      "<script>\n",
      "Today, we're going to embark on an exciting journey to explore our solar system! To kick things off, let's gather around and watch a short video that takes us on a tour of the planets. As we watch, I want you to think about what makes each planet unique.\n",
      "\n",
      "After the video, I’ll ask you some questions to see what you noticed. Did you see any planets with rings? What colors did you see? And how many moons did you notice?\n",
      "\n",
      "Next, we'll create a large mural of the solar system right here in our classroom! I’ll assign each of you a planet, and you'll use your creativity to illustrate its surface, atmosphere, and any special features. Don’t forget to include the Sun! Finally, we’ll take turns presenting our planets to the class, sharing some interesting facts we learned.\n",
      "\n",
      "Are you ready to blast off into space? Let’s make our solar system mural the best one ever!\n",
      "</script>\n",
      "\n",
      "--------------------------------------------------------------------------------\n"
     ]
    },
    {
     "data": {
      "text/plain": [
       "ChatResult(chat_id=None, chat_history=[{'content': \"Today, let's introduce our kids to the solar system.\", 'role': 'assistant', 'name': 'human'}, {'content': \"<title>Exploring the Solar System</title>\\n<learning_objectives>\\n1. Identify and name the eight planets in the solar system.\\n2. Understand the basic characteristics of each planet.\\n3. Recognize the Sun as the center of the solar system.\\n4. Differentiate between terrestrial and gas giant planets.\\n</learning_objectives>\\n<script>\\nToday, we're going to embark on an exciting journey to explore our solar system! To kick things off, let's gather around and watch a short video that takes us on a tour of the planets. As we watch, I want you to think about what makes each planet unique.\\n\\nAfter the video, I’ll ask you some questions to see what you noticed. Did you see any planets with rings? What colors did you see? And how many moons did you notice?\\n\\nNext, we'll create a large mural of the solar system right here in our classroom! I’ll assign each of you a planet, and you'll use your creativity to illustrate its surface, atmosphere, and any special features. Don’t forget to include the Sun! Finally, we’ll take turns presenting our planets to the class, sharing some interesting facts we learned.\\n\\nAre you ready to blast off into space? Let’s make our solar system mural the best one ever!\\n</script>\", 'role': 'user', 'name': 'lesson_agent'}], summary=\"<title>Exploring the Solar System</title>\\n<learning_objectives>\\n1. Identify and name the eight planets in the solar system.\\n2. Understand the basic characteristics of each planet.\\n3. Recognize the Sun as the center of the solar system.\\n4. Differentiate between terrestrial and gas giant planets.\\n</learning_objectives>\\n<script>\\nToday, we're going to embark on an exciting journey to explore our solar system! To kick things off, let's gather around and watch a short video that takes us on a tour of the planets. As we watch, I want you to think about what makes each planet unique.\\n\\nAfter the video, I’ll ask you some questions to see what you noticed. Did you see any planets with rings? What colors did you see? And how many moons did you notice?\\n\\nNext, we'll create a large mural of the solar system right here in our classroom! I’ll assign each of you a planet, and you'll use your creativity to illustrate its surface, atmosphere, and any special features. Don’t forget to include the Sun! Finally, we’ll take turns presenting our planets to the class, sharing some interesting facts we learned.\\n\\nAre you ready to blast off into space? Let’s make our solar system mural the best one ever!\\n</script>\", cost={'usage_including_cached_inference': {'total_cost': 0.000168, 'gpt-4o-mini-2024-07-18': {'cost': 0.000168, 'prompt_tokens': 84, 'completion_tokens': 259, 'total_tokens': 343}}, 'usage_excluding_cached_inference': {'total_cost': 0.000168, 'gpt-4o-mini-2024-07-18': {'cost': 0.000168, 'prompt_tokens': 84, 'completion_tokens': 259, 'total_tokens': 343}}}, human_input=['exit'])"
      ]
     },
     "execution_count": 4,
     "metadata": {},
     "output_type": "execute_result"
    }
   ],
   "source": [
    "from autogen import ConversableAgent\n",
    "\n",
    "# Put your key in the OPENAI_API_KEY environment variable\n",
    "llm_config = {\"api_type\": \"openai\", \"model\": \"gpt-4o-mini\"}\n",
    "\n",
    "planner_system_message = \"\"\"You are a classroom lesson agent.\n",
    "Given a topic, write a lesson plan for a fourth grade class.\n",
    "Use the following format:\n",
    "<title>Lesson plan title</title>\n",
    "<learning_objectives>Key learning objectives</learning_objectives>\n",
    "<script>How to introduce the topic to the kids</script>\n",
    "\"\"\"\n",
    "\n",
    "my_agent = ConversableAgent(\n",
    "    name=\"lesson_agent\",\n",
    "    llm_config=llm_config,\n",
    "    system_message=planner_system_message,\n",
    ")\n",
    "\n",
    "# 1. Create our \"human\" agent\n",
    "the_human = ConversableAgent(\n",
    "    name=\"human\",\n",
    "    human_input_mode=\"ALWAYS\",\n",
    ")\n",
    "\n",
    "# 2. Initiate our chat between the agents\n",
    "the_human.initiate_chat(\n",
    "    recipient=my_agent,\n",
    "    message=\"Today, let's introduce our kids to the solar system.\"\n",
    "    )"
   ]
  }
 ],
 "metadata": {
  "kernelspec": {
   "display_name": "ag2-101-3j4tOcAr",
   "language": "python",
   "name": "python3"
  },
  "language_info": {
   "codemirror_mode": {
    "name": "ipython",
    "version": 3
   },
   "file_extension": ".py",
   "mimetype": "text/x-python",
   "name": "python",
   "nbconvert_exporter": "python",
   "pygments_lexer": "ipython3",
   "version": "3.12.8"
  }
 },
 "nbformat": 4,
 "nbformat_minor": 2
}
